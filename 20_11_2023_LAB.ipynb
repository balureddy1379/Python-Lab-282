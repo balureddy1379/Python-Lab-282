{
  "nbformat": 4,
  "nbformat_minor": 0,
  "metadata": {
    "colab": {
      "provenance": [],
      "authorship_tag": "ABX9TyPH8lTkjBC1cj0Ao/2CVFfP",
      "include_colab_link": true
    },
    "kernelspec": {
      "name": "python3",
      "display_name": "Python 3"
    },
    "language_info": {
      "name": "python"
    }
  },
  "cells": [
    {
      "cell_type": "markdown",
      "metadata": {
        "id": "view-in-github",
        "colab_type": "text"
      },
      "source": [
        "<a href=\"https://colab.research.google.com/github/balureddy1379/Python-Lab-282/blob/main/20_11_2023_LAB.ipynb\" target=\"_parent\"><img src=\"https://colab.research.google.com/assets/colab-badge.svg\" alt=\"Open In Colab\"/></a>"
      ]
    },
    {
      "cell_type": "markdown",
      "source": [
        "Opening a file"
      ],
      "metadata": {
        "id": "DdgsPuAtR6t_"
      }
    },
    {
      "cell_type": "code",
      "source": [
        "F1 = open(\"demo.txt\",\"w\")"
      ],
      "metadata": {
        "id": "Rzs5dX5ER8yG"
      },
      "execution_count": null,
      "outputs": []
    },
    {
      "cell_type": "code",
      "source": [
        "def main():\n",
        "  obj1 = open(\"demo.txt\", \"w\")\n",
        "  obj1.write(\"Hello, How are you? \\n\")\n",
        "  obj1.write(\"Welcome to The File Handling. \\n\")\n",
        "  obj1.write(\"Enjoy the session. \\n\")\n",
        "\n",
        "main()"
      ],
      "metadata": {
        "id": "cyUax0jXVGyr"
      },
      "execution_count": null,
      "outputs": []
    },
    {
      "cell_type": "code",
      "source": [
        "fp1 = open(\"demo.txt\",\"w\")"
      ],
      "metadata": {
        "id": "BuwufanYVj_T"
      },
      "execution_count": null,
      "outputs": []
    },
    {
      "cell_type": "code",
      "source": [
        "fp1.close()"
      ],
      "metadata": {
        "id": "p-7NHZGkWF8K"
      },
      "execution_count": null,
      "outputs": []
    },
    {
      "cell_type": "code",
      "source": [],
      "metadata": {
        "id": "H8NGJOpIWP7R"
      },
      "execution_count": null,
      "outputs": []
    }
  ]
}